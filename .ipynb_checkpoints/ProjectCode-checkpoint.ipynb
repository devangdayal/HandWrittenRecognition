{
 "cells": [
  {
   "cell_type": "code",
   "execution_count": 2,
   "metadata": {},
   "outputs": [],
   "source": [
    "#Let's begin with importing the MNIST Dataset\n",
    "# As by default Scikit-Learn already have Dataset"
   ]
  },
  {
   "cell_type": "code",
   "execution_count": 3,
   "metadata": {},
   "outputs": [],
   "source": [
    "#Firstly update the Python, Scikit and import few Libraries we know we will be needing in the project\n",
    "\n",
    "import sklearn\n",
    "assert sklearn.__version__ >= \"0.20\"\n",
    "import sys\n",
    "assert sys.version_info >= (3, 5)\n",
    "import numpy as np\n",
    "import os\n"
   ]
  },
  {
   "cell_type": "code",
   "execution_count": 4,
   "metadata": {},
   "outputs": [
    {
     "data": {
      "text/plain": [
       "dict_keys(['data', 'target', 'frame', 'feature_names', 'target_names', 'DESCR', 'details', 'categories', 'url'])"
      ]
     },
     "execution_count": 4,
     "metadata": {},
     "output_type": "execute_result"
    }
   ],
   "source": [
    "from sklearn.datasets import fetch_openml as fetopml\n",
    "\n",
    "mnist=fetopml('mnist_784',version=1)\n",
    "mnist.keys()"
   ]
  },
  {
   "cell_type": "code",
   "execution_count": 5,
   "metadata": {},
   "outputs": [
    {
     "data": {
      "text/plain": [
       "(70000, 784)"
      ]
     },
     "execution_count": 5,
     "metadata": {},
     "output_type": "execute_result"
    }
   ],
   "source": [
    "#Let's quick peak \n",
    "X,y=mnist[\"data\"],mnist[\"target\"]\n",
    "X.shape"
   ]
  },
  {
   "cell_type": "code",
   "execution_count": 6,
   "metadata": {},
   "outputs": [],
   "source": [
    "#70,000 dataset with 784 features \n",
    "#we can take 60,000 as training Dataset\n"
   ]
  },
  {
   "cell_type": "code",
   "execution_count": 7,
   "metadata": {},
   "outputs": [
    {
     "data": {
      "image/png": "[encoded data removed]",
      "text/plain": [
       "<Figure size 80x80 with 1 Axes>"
      ]
     },
     "metadata": {
      "needs_background": "light"
     },
     "output_type": "display_data"
    },
    {
     "data": {
      "image/png": "[encoded data removed]",
      "text/plain": [
       "<Figure size 80x80 with 1 Axes>"
      ]
     },
     "metadata": {
      "needs_background": "light"
     },
     "output_type": "display_data"
    },
    {
     "data": {
      "image/png": "[encoded data removed]",
      "text/plain": [
       "<Figure size 80x80 with 1 Axes>"
      ]
     },
     "metadata": {
      "needs_background": "light"
     },
     "output_type": "display_data"
    },
    {
     "data": {
      "image/png": "[encoded data removed]",
      "text/plain": [
       "<Figure size 80x80 with 1 Axes>"
      ]
     },
     "metadata": {
      "needs_background": "light"
     },
     "output_type": "display_data"
    },
    {
     "data": {
      "image/png": "[encoded data removed]",
      "text/plain": [
       "<Figure size 80x80 with 1 Axes>"
      ]
     },
     "metadata": {
      "needs_background": "light"
     },
     "output_type": "display_data"
    }
   ],
   "source": [
    "import matplotlib as mpl\n",
    "import matplotlib.pyplot as plt\n",
    "\n",
    "for x in range(5):\n",
    "    digits=X[x]\n",
    "    digits_img=digits.reshape(28,28)\n",
    "    plt.figure(num=y[x], figsize=(1,1), dpi=80)\n",
    "    plt.suptitle(y[x])\n",
    "    plt.imshow(digits_img)\n",
    "    plt.axis(\"off\")\n",
    "    plt.show()\n",
    "\n"
   ]
  },
  {
   "cell_type": "code",
   "execution_count": 8,
   "metadata": {},
   "outputs": [
    {
     "data": {
      "image/png": "[encoded data removed]",
      "text/plain": [
       "<Figure size 80x80 with 1 Axes>"
      ]
     },
     "metadata": {
      "needs_background": "light"
     },
     "output_type": "display_data"
    },
    {
     "data": {
      "image/png": "[encoded data removed]",
      "text/plain": [
       "<Figure size 80x80 with 1 Axes>"
      ]
     },
     "metadata": {
      "needs_background": "light"
     },
     "output_type": "display_data"
    },
    {
     "data": {
      "image/png": "[encoded data removed]",
      "text/plain": [
       "<Figure size 80x80 with 1 Axes>"
      ]
     },
     "metadata": {
      "needs_background": "light"
     },
     "output_type": "display_data"
    },
    {
     "data": {
      "image/png": "[encoded data removed]",
      "text/plain": [
       "<Figure size 80x80 with 1 Axes>"
      ]
     },
     "metadata": {
      "needs_background": "light"
     },
     "output_type": "display_data"
    },
    {
     "data": {
      "image/png": "[encoded data removed]",
      "text/plain": [
       "<Figure size 80x80 with 1 Axes>"
      ]
     },
     "metadata": {
      "needs_background": "light"
     },
     "output_type": "display_data"
    },
    {
     "data": {
      "image/png": "[encoded data removed]",
      "text/plain": [
       "<Figure size 80x80 with 1 Axes>"
      ]
     },
     "metadata": {
      "needs_background": "light"
     },
     "output_type": "display_data"
    },
    {
     "data": {
      "image/png": "[encoded data removed]",
      "text/plain": [
       "<Figure size 80x80 with 1 Axes>"
      ]
     },
     "metadata": {
      "needs_background": "light"
     },
     "output_type": "display_data"
    },
    {
     "data": {
      "image/png": "[encoded data removed]",
      "text/plain": [
       "<Figure size 80x80 with 1 Axes>"
      ]
     },
     "metadata": {
      "needs_background": "light"
     },
     "output_type": "display_data"
    },
    {
     "data": {
      "image/png": "[encoded data removed]",
      "text/plain": [
       "<Figure size 80x80 with 1 Axes>"
      ]
     },
     "metadata": {
      "needs_background": "light"
     },
     "output_type": "display_data"
    }
   ],
   "source": [
    "import matplotlib as mpl\n",
    "import matplotlib.pyplot as plt\n",
    "\n",
    "for x in range(9):\n",
    "    digits=X[x]\n",
    "    digits_img=digits.reshape(28,28)\n",
    "    plt.figure(num=y[x], figsize=(1,1), dpi=80)\n",
    "    plt.suptitle(y[x])\n",
    "    plt.imshow(digits_img,cmap='binary')\n",
    "    plt.axis(\"off\")\n",
    "    plt.show()\n"
   ]
  },
  {
   "cell_type": "code",
   "execution_count": 9,
   "metadata": {},
   "outputs": [
    {
     "data": {
      "image/png": "[encoded data removed]",
      "text/plain": [
       "<Figure size 432x288 with 1 Axes>"
      ]
     },
     "metadata": {
      "needs_background": "light"
     },
     "output_type": "display_data"
    }
   ],
   "source": [
    "import matplotlib as mpl\n",
    "import matplotlib.pyplot as plt\n",
    "\n",
    "\n",
    "some_digits=X[2]\n",
    "some_digits_img=some_digits.reshape(28,28)\n",
    "plt.imshow(some_digits_img,cmap='binary')\n",
    "plt.axis(\"off\")\n",
    "plt.show()"
   ]
  },
  {
   "cell_type": "code",
   "execution_count": 10,
   "metadata": {},
   "outputs": [],
   "source": [
    "#Since the dataset is already shuffled and independent of biasing so we will simply slice the array in Training and Test set\n",
    "x_train,x_test=X[:60000], X[60000:]\n",
    "y_train,y_test=y[:60000], y[60000:]"
   ]
  },
  {
   "cell_type": "code",
   "execution_count": 11,
   "metadata": {},
   "outputs": [],
   "source": [
    "#Lets try to make a Binary Classifier to check the Digit 4\n",
    "y_train = y_train.astype(np.int8)\n",
    "y_train_4=(y_train==4)\n",
    "y_test_4=(y_test==4)\n",
    "\n"
   ]
  },
  {
   "cell_type": "code",
   "execution_count": 12,
   "metadata": {},
   "outputs": [
    {
     "data": {
      "text/plain": [
       "SGDClassifier(alpha=0.0001, average=False, class_weight=None,\n",
       "              early_stopping=False, epsilon=0.1, eta0=0.0, fit_intercept=True,\n",
       "              l1_ratio=0.15, learning_rate='optimal', loss='hinge',\n",
       "              max_iter=1000, n_iter_no_change=5, n_jobs=None, penalty='l2',\n",
       "              power_t=0.5, random_state=42, shuffle=True, tol=0.001,\n",
       "              validation_fraction=0.1, verbose=0, warm_start=False)"
      ]
     },
     "execution_count": 12,
     "metadata": {},
     "output_type": "execute_result"
    }
   ],
   "source": [
    "#let try to work out with the Stochastic Gradient Descent classier\n",
    "#We will be using it as Binary Classifier i.e. we will check whether the figure is 7 or not 7\n",
    "from sklearn.linear_model import SGDClassifier \n",
    "\n",
    "sgd=SGDClassifier(max_iter=1000, tol=1e-3,random_state=42)\n",
    "sgd.fit(x_train, y_train_4)"
   ]
  },
  {
   "cell_type": "code",
   "execution_count": 13,
   "metadata": {},
   "outputs": [
    {
     "data": {
      "text/plain": [
       "array([ True])"
      ]
     },
     "execution_count": 13,
     "metadata": {},
     "output_type": "execute_result"
    }
   ],
   "source": [
    "sgd.predict([some_digits])"
   ]
  },
  {
   "cell_type": "code",
   "execution_count": 14,
   "metadata": {},
   "outputs": [
    {
     "name": "stdout",
     "output_type": "stream",
     "text": [
      "Accuracy:: 0.9671\n",
      "Accuracy:: 0.97645\n",
      "Accuracy:: 0.9687\n"
     ]
    }
   ],
   "source": [
    "#Check the accuracy by cross validation the Binary SGD Classifier\n",
    "\n",
    "from sklearn.model_selection import StratifiedKFold\n",
    "from sklearn.base import clone\n",
    "\n",
    "\n",
    "skfolds=StratifiedKFold(n_splits=3)\n",
    "\n",
    "for train_index,test_index in skfolds.split(x_train,y_train_4):\n",
    "    clone_clf=clone(sgd)\n",
    "    x_train_folds=x_train[train_index]\n",
    "    y_train_folds=y_train_4[train_index]\n",
    "    \n",
    "    x_test_folds=x_train[test_index]\n",
    "    y_test_folds=y_train_4[test_index]\n",
    "    \n",
    "    clone_clf.fit(x_train_folds,y_train_folds)\n",
    "    y_pred=clone_clf.predict(x_test_folds)\n",
    "    n_correct=sum(y_pred==y_test_folds)\n",
    "    print(\"Accuracy::\",n_correct/len(y_pred))"
   ]
  },
  {
   "cell_type": "code",
   "execution_count": 15,
   "metadata": {},
   "outputs": [
    {
     "data": {
      "text/plain": [
       "array([0.9671 , 0.97645, 0.9687 ])"
      ]
     },
     "execution_count": 15,
     "metadata": {},
     "output_type": "execute_result"
    }
   ],
   "source": [
    "from sklearn.model_selection import cross_val_score as cvs\n",
    "\n",
    "cvs(sgd,x_train,y_train_4,cv=3,scoring=\"accuracy\")\n"
   ]
  },
  {
   "cell_type": "code",
   "execution_count": 16,
   "metadata": {},
   "outputs": [],
   "source": [
    "#lets Check the NOT-4 prediction accuracy of the model\n",
    "from sklearn.base import BaseEstimator \n",
    "\n",
    "class Not4clf(BaseEstimator):\n",
    "    def fit(self,x,y=None):\n",
    "        return self;\n",
    "    \n",
    "    def predict(self,x):\n",
    "        return np.zeros((len(x),1),dtype=bool)\n",
    "\n"
   ]
  },
  {
   "cell_type": "code",
   "execution_count": 17,
   "metadata": {},
   "outputs": [
    {
     "data": {
      "text/plain": [
       "array([0.90275, 0.9018 , 0.90335])"
      ]
     },
     "execution_count": 17,
     "metadata": {},
     "output_type": "execute_result"
    }
   ],
   "source": [
    "#Let's test the accuracy of how well we can predict that the value isn't \" 4 \"\n",
    "from sklearn.model_selection import cross_val_score as cvs\n",
    "\n",
    "never_4=Not4clf()\n",
    "cvs(never_4,x_train,y_train_4,cv=3,scoring=\"accuracy\")"
   ]
  },
  {
   "cell_type": "code",
   "execution_count": 18,
   "metadata": {},
   "outputs": [
    {
     "data": {
      "text/plain": [
       "array([False, False,  True, ..., False, False, False])"
      ]
     },
     "execution_count": 18,
     "metadata": {},
     "output_type": "execute_result"
    }
   ],
   "source": [
    "#Let's create the CONFUSION MATRIX \n",
    "from sklearn.model_selection import cross_val_predict as cvpred\n",
    "\n",
    "y_train_pred=cvpred(sgd,x_train,y_train_4,cv=3)\n",
    "y_train_pred"
   ]
  },
  {
   "cell_type": "code",
   "execution_count": 19,
   "metadata": {},
   "outputs": [
    {
     "data": {
      "text/plain": [
       "array([[52957,  1201],\n",
       "       [  554,  5288]], dtype=int64)"
      ]
     },
     "execution_count": 19,
     "metadata": {},
     "output_type": "execute_result"
    }
   ],
   "source": [
    "from sklearn.metrics import confusion_matrix\n",
    "confusion_matrix(y_train_4,y_train_pred)"
   ]
  },
  {
   "cell_type": "raw",
   "metadata": {},
   "source": [
    " \n",
    "52957 :: True Negative;; \n",
    "1201  :: False Positive;;\n",
    "554   :: False Negative;;\n",
    "4096  :: True Positive;;"
   ]
  },
  {
   "cell_type": "code",
   "execution_count": 20,
   "metadata": {},
   "outputs": [
    {
     "data": {
      "text/plain": [
       "array([[54158,     0],\n",
       "       [    0,  5842]], dtype=int64)"
      ]
     },
     "execution_count": 20,
     "metadata": {},
     "output_type": "execute_result"
    }
   ],
   "source": [
    "from sklearn.metrics import confusion_matrix\n",
    "\n",
    "y_train_perfect_predictions=y_train_4\n",
    "\n",
    "confusion_matrix(y_train_4,y_train_perfect_predictions)"
   ]
  },
  {
   "cell_type": "code",
   "execution_count": 21,
   "metadata": {},
   "outputs": [
    {
     "name": "stdout",
     "output_type": "stream",
     "text": [
      "Precision Score:: 0.8149175527816305\n",
      "Recall Score:: 0.905169462512838\n"
     ]
    }
   ],
   "source": [
    "# Checking up the binary classifer on Precision and Recall\n",
    "from sklearn.metrics import precision_score as prsc , recall_score as resc\n",
    "\n",
    "print(\"Precision Score::\",prsc(y_train_4,y_train_pred))\n",
    "\n",
    "print(\"Recall Score::\",resc(y_train_4,y_train_pred))"
   ]
  },
  {
   "cell_type": "code",
   "execution_count": 22,
   "metadata": {},
   "outputs": [
    {
     "data": {
      "text/plain": [
       "0.8576757764982564"
      ]
     },
     "execution_count": 22,
     "metadata": {},
     "output_type": "execute_result"
    }
   ],
   "source": [
    "from sklearn.metrics import f1_score \n",
    "\n",
    "f1_score(y_train_4,y_train_pred)"
   ]
  },
  {
   "cell_type": "code",
   "execution_count": 23,
   "metadata": {},
   "outputs": [
    {
     "data": {
      "text/plain": [
       "array([3214.66574913])"
      ]
     },
     "execution_count": 23,
     "metadata": {},
     "output_type": "execute_result"
    }
   ],
   "source": [
    "y_scores=sgd.decision_function([some_digits])\n",
    "y_scores"
   ]
  },
  {
   "cell_type": "code",
   "execution_count": 24,
   "metadata": {},
   "outputs": [
    {
     "data": {
      "text/plain": [
       "array([ True])"
      ]
     },
     "execution_count": 24,
     "metadata": {},
     "output_type": "execute_result"
    }
   ],
   "source": [
    "# Changing the Threshold value for the Precision/Recall Trade off and calibrate it to the best possible combination of P/R \n",
    "threshold=0\n",
    "y_some_digits_pred=(y_scores>threshold)\n",
    "y_some_digits_pred\n"
   ]
  },
  {
   "cell_type": "code",
   "execution_count": 25,
   "metadata": {},
   "outputs": [
    {
     "data": {
      "text/plain": [
       "array([False])"
      ]
     },
     "execution_count": 25,
     "metadata": {},
     "output_type": "execute_result"
    }
   ],
   "source": [
    "threshold=5000\n",
    "y_some_digits_pred=(y_scores>threshold)\n",
    "y_some_digits_pred\n"
   ]
  },
  {
   "cell_type": "code",
   "execution_count": 26,
   "metadata": {},
   "outputs": [
    {
     "data": {
      "text/plain": [
       "array([-31754.76525516, -26393.82888302,   2160.11030898, ...,\n",
       "       -19439.69962707, -10979.35873154, -22487.33775957])"
      ]
     },
     "execution_count": 26,
     "metadata": {},
     "output_type": "execute_result"
    }
   ],
   "source": [
    "# HIT & TRIAL can take very long time to find the accurate P/R Trade off\n",
    "y_scores=cvpred(sgd,x_train,y_train_4,cv=3,method=\"decision_function\")\n",
    "y_scores"
   ]
  },
  {
   "cell_type": "code",
   "execution_count": 27,
   "metadata": {},
   "outputs": [
    {
     "name": "stdout",
     "output_type": "stream",
     "text": [
      "Precision:: [0.10262626 0.1026105  0.1026123  ... 1.         1.         1.        ]\n",
      "Recalls:: [1.00000000e+00 9.99828826e-01 9.99828826e-01 ... 3.42348511e-04\n",
      " 1.71174255e-04 0.00000000e+00]\n",
      "Threshold:: [-61778.26334052 -61768.78294136 -61764.89465536 ...  42016.20158046\n",
      "  42674.90852649  44388.35162874]\n"
     ]
    }
   ],
   "source": [
    "# Simply we can go for P/R Curve and use our Graphical tool kit to find the optimals values\n",
    "from sklearn.metrics import precision_recall_curve as prcurve\n",
    "\n",
    "precisions,recalls,thresholds=prcurve(y_train_4,y_scores)\n",
    "print(\"Precision::\",precisions)\n",
    "print(\"Recalls::\",recalls)\n",
    "print(\"Threshold::\",thresholds)"
   ]
  },
  {
   "cell_type": "code",
   "execution_count": 28,
   "metadata": {},
   "outputs": [
    {
     "data": {
      "image/png": "[encoded data removed]",
      "text/plain": [
       "<Figure size 864x576 with 1 Axes>"
      ]
     },
     "metadata": {
      "needs_background": "light"
     },
     "output_type": "display_data"
    }
   ],
   "source": [
    "# Plotting the P/R Curve against Thresholds\n",
    "def plot_prcurve(precisions,recalls,thresholds=0):\n",
    "    plt.plot(thresholds,precisions[:-1],\"b--\",label=\"Precision vs Threshold\")\n",
    "    plt.plot(thresholds,recalls[:-1],\"g-\",label=\"Recall vs Threshold\")\n",
    "      \n",
    "    plt.grid()\n",
    "    plt.legend(loc=\"lower right\", fontsize=12) \n",
    "    plt.xlabel(\"Threshold\", fontsize=12)        \n",
    "    plt.axis([-50000, 50000, 0, 1])\n",
    "\n",
    "recall_90_precision = recalls[np.argmax(precisions >= 0.90)]\n",
    "threshold_90_precision = thresholds[np.argmax(precisions >= 0.90)]\n",
    "\n",
    "plt.figure(figsize=(12, 8)) \n",
    "plot_prcurve(precisions,recalls,thresholds)\n",
    "plt.plot([threshold_90_precision, threshold_90_precision], [0., 0.9], \"b:\")                 \n",
    "plt.plot([-50000, threshold_90_precision], [0.9, 0.9], \"r:\")                                \n",
    "plt.plot([-50000, threshold_90_precision], [recall_90_precision, recall_90_precision], \"r:\")\n",
    "plt.plot([threshold_90_precision], [0.9], \"ko\")                                             \n",
    "plt.plot([threshold_90_precision], [recall_90_precision], \"ko\")\n",
    "\n",
    "\n",
    "plt.savefig('.\\\\ImageDataset\\\\PRVSThresholdCurve.jpeg')\n",
    "plt.show() "
   ]
  },
  {
   "cell_type": "code",
   "execution_count": 29,
   "metadata": {},
   "outputs": [
    {
     "name": "stdout",
     "output_type": "stream",
     "text": [
      "Precision Score :: 0.9001287474710318\n",
      "Recall Score at 90% Precision:: 0.8377268058883944\n"
     ]
    }
   ],
   "source": [
    "thresholds_90_precision=thresholds[np.argmax(precisions>=0.90)]\n",
    "y_train_pred_90=(y_scores >=thresholds_90_precision)\n",
    "\n",
    "print(\"Precision Score ::\",prsc(y_train_4,y_train_pred_90))\n",
    "print(\"Recall Score at 90% Precision::\",resc(y_train_4,y_train_pred_90))\n"
   ]
  },
  {
   "cell_type": "code",
   "execution_count": 30,
   "metadata": {},
   "outputs": [
    {
     "name": "stderr",
     "output_type": "stream",
     "text": [
      "No handles with labels found to put in legend.\n"
     ]
    },
    {
     "data": {
      "image/png": "[encoded data removed]",
      "text/plain": [
       "<Figure size 720x576 with 1 Axes>"
      ]
     },
     "metadata": {
      "needs_background": "light"
     },
     "output_type": "display_data"
    }
   ],
   "source": [
    "from sklearn.metrics import roc_curve\n",
    "\n",
    "fpr,tpr,thresholds=roc_curve(y_train_4,y_scores)\n",
    "\n",
    "def plot_roc_curve(fpr,tpr,label=None):\n",
    "    plt.plot(fpr,tpr,\"b--\",label=label)\n",
    "    plt.plot([0,1],[0,1],'r--')\n",
    "    plt.axis([0, 1, 0, 1])  \n",
    "    plt.grid()\n",
    "    plt.legend(loc=\"lower right\", fontsize=12) \n",
    "    plt.xlabel('False Positive Rate (Fall-Out)', fontsize=12)\n",
    "    plt.ylabel('True Positive Rate (Recall)', fontsize=12)    \n",
    "    \n",
    "    fpr_90 = fpr[np.argmax(tpr >= recall_90_precision)]\n",
    "    \n",
    "    plt.plot([fpr_90, fpr_90], [0., recall_90_precision], \"g:\")\n",
    "    plt.plot([0.0,fpr_90],[recall_90_precision,recall_90_precision],\"g:\")\n",
    "    plt.plot([fpr_90], [recall_90_precision], \"ko\") \n",
    "   \n",
    "    \n",
    "plt.figure(figsize=(10, 8))\n",
    "plot_roc_curve(fpr,tpr)\n",
    "plt.savefig('.\\\\ImageDataset\\\\ROCCurve.jpeg')\n",
    "plt.show() "
   ]
  },
  {
   "cell_type": "code",
   "execution_count": 31,
   "metadata": {},
   "outputs": [
    {
     "data": {
      "text/plain": [
       "0.9859276923382874"
      ]
     },
     "execution_count": 31,
     "metadata": {},
     "output_type": "execute_result"
    }
   ],
   "source": [
    "\n",
    "from sklearn.metrics import roc_auc_score as rocscr #AUC == Area Under Curve\n",
    "\n",
    "rocscr(y_train_4,y_scores)"
   ]
  },
  {
   "cell_type": "code",
   "execution_count": 32,
   "metadata": {},
   "outputs": [
    {
     "data": {
      "image/png": "[encoded data removed]",
      "text/plain": [
       "<Figure size 720x576 with 1 Axes>"
      ]
     },
     "metadata": {
      "needs_background": "light"
     },
     "output_type": "display_data"
    }
   ],
   "source": [
    "#Lets Train the Random Forest Classifier  \n",
    "\n",
    "from sklearn.ensemble import RandomForestClassifier\n",
    "from sklearn.model_selection import cross_val_predict as cvpred\n",
    "\n",
    "forest=RandomForestClassifier(random_state=42,n_estimators=100)\n",
    "y_probas_forest=cvpred(forest,x_train,y_train_4,cv=2,method=\"predict_proba\")\n",
    "\n",
    "y_scores_forest=y_probas_forest[:,1]\n",
    "fpr_forest,tpr_forest,threshold_forest=roc_curve(y_train_4,y_scores_forest)\n",
    "\n",
    "#We set the parameters....\n",
    "#Lets Plot the ROC Curve using the method we wrote above\n",
    "plt.figure(figsize=(10, 8))\n",
    "plt.plot(fpr,tpr,\"b:\",label=\"SGD\")\n",
    "plot_roc_curve(fpr_forest,tpr_forest,\"Random Forest\")\n",
    "\n",
    "plt.legend(loc=\"lower right\")\n",
    "\n",
    "plt.savefig('.\\\\ImageDataset\\\\RandomForestROC.jpeg')\n",
    "plt.show()\n"
   ]
  },
  {
   "cell_type": "code",
   "execution_count": 33,
   "metadata": {},
   "outputs": [
    {
     "name": "stdout",
     "output_type": "stream",
     "text": [
      "ROC_AUC_Score::  0.9980426389197702\n"
     ]
    }
   ],
   "source": [
    "print(\"ROC_AUC_Score:: \",rocscr(y_train_4,y_scores_forest))"
   ]
  },
  {
   "cell_type": "code",
   "execution_count": 34,
   "metadata": {},
   "outputs": [
    {
     "data": {
      "text/plain": [
       "array([4], dtype=int8)"
      ]
     },
     "execution_count": 34,
     "metadata": {},
     "output_type": "execute_result"
    }
   ],
   "source": [
    "#Now We can work with Multiclass Classification \n",
    "#We have to decide what ways we are going to proceed OneVsOne or OneVsAll/OneVsRest\n",
    "#We will be working one Support Vector Machine Classifier \n",
    "\n",
    "from sklearn.svm import SVC\n",
    "svm=SVC(random_state=42,gamma=\"auto\")\n",
    "svm.fit(x_train[:1000],y_train[:1000])\n",
    "\n",
    "svm.predict([some_digits])\n"
   ]
  },
  {
   "cell_type": "code",
   "execution_count": 35,
   "metadata": {},
   "outputs": [
    {
     "data": {
      "text/plain": [
       "array([[ 3.82111996,  7.09167958,  4.83444983,  1.79943469,  9.29932174,\n",
       "         0.79485736,  2.80437474,  8.10392157, -0.22417259,  5.84182891]])"
      ]
     },
     "execution_count": 35,
     "metadata": {},
     "output_type": "execute_result"
    }
   ],
   "source": [
    "some_digits_scores=svm.decision_function([some_digits])\n",
    "some_digits_scores"
   ]
  },
  {
   "cell_type": "code",
   "execution_count": 36,
   "metadata": {},
   "outputs": [
    {
     "data": {
      "text/plain": [
       "4"
      ]
     },
     "execution_count": 36,
     "metadata": {},
     "output_type": "execute_result"
    }
   ],
   "source": [
    "np.argmax(some_digits_scores)"
   ]
  },
  {
   "cell_type": "code",
   "execution_count": 37,
   "metadata": {},
   "outputs": [
    {
     "data": {
      "text/plain": [
       "array([0, 1, 2, 3, 4, 5, 6, 7, 8, 9], dtype=int8)"
      ]
     },
     "execution_count": 37,
     "metadata": {},
     "output_type": "execute_result"
    }
   ],
   "source": [
    "svm.classes_"
   ]
  },
  {
   "cell_type": "code",
   "execution_count": 38,
   "metadata": {},
   "outputs": [
    {
     "data": {
      "text/plain": [
       "4"
      ]
     },
     "execution_count": 38,
     "metadata": {},
     "output_type": "execute_result"
    }
   ],
   "source": [
    "svm.classes_[4]"
   ]
  },
  {
   "cell_type": "code",
   "execution_count": 39,
   "metadata": {},
   "outputs": [
    {
     "data": {
      "text/plain": [
       "array([4], dtype=int8)"
      ]
     },
     "execution_count": 39,
     "metadata": {},
     "output_type": "execute_result"
    }
   ],
   "source": [
    "#Since ML we have to try all the probable models\n",
    "#Lets Try OneVsRest Model\n",
    "\n",
    "from sklearn.multiclass import OneVsRestClassifier as OvR\n",
    "ovr=OvR(SVC(random_state=42,gamma=\"auto\"))\n",
    "ovr.fit(x_train[:1000],y_train[:1000])\n",
    "ovr.predict([some_digits])"
   ]
  },
  {
   "cell_type": "code",
   "execution_count": 40,
   "metadata": {},
   "outputs": [
    {
     "data": {
      "text/plain": [
       "10"
      ]
     },
     "execution_count": 40,
     "metadata": {},
     "output_type": "execute_result"
    }
   ],
   "source": [
    "len(ovr.estimators_)"
   ]
  },
  {
   "cell_type": "code",
   "execution_count": 41,
   "metadata": {},
   "outputs": [
    {
     "data": {
      "text/plain": [
       "array([4], dtype=int8)"
      ]
     },
     "execution_count": 41,
     "metadata": {},
     "output_type": "execute_result"
    }
   ],
   "source": [
    "sgd.fit(x_train[:1000],y_train[:1000])\n",
    "sgd.predict([some_digits])\n"
   ]
  },
  {
   "cell_type": "code",
   "execution_count": 42,
   "metadata": {},
   "outputs": [
    {
     "data": {
      "text/plain": [
       "array([[-5204706.98947443, -4954638.35555353, -1409644.85952414,\n",
       "         -249333.37139651,  1424883.39627106, -2604110.05301226,\n",
       "        -3639676.47119989, -3844853.63309997, -2229525.57021486,\n",
       "        -2339588.94079138]])"
      ]
     },
     "execution_count": 42,
     "metadata": {},
     "output_type": "execute_result"
    }
   ],
   "source": [
    "sgd.decision_function([some_digits])"
   ]
  },
  {
   "cell_type": "code",
   "execution_count": 43,
   "metadata": {},
   "outputs": [
    {
     "data": {
      "text/plain": [
       "array([0.87365, 0.85835, 0.8689 ])"
      ]
     },
     "execution_count": 43,
     "metadata": {},
     "output_type": "execute_result"
    }
   ],
   "source": [
    "cvs(sgd,x_train,y_train,cv=3,scoring=\"accuracy\")"
   ]
  },
  {
   "cell_type": "code",
   "execution_count": null,
   "metadata": {},
   "outputs": [],
   "source": [
    "from sklearn.preprocessing import StandardScaler\n",
    "\n",
    "scaler=StandardScaler()\n",
    "x_train_scaled=scaler.fit_transform(x_train.astype(np.float64))\n",
    "cvs(sgd,x_train_scaled,y_train,cv=3,scoring=\"accuracy\")\n"
   ]
  },
  {
   "cell_type": "code",
   "execution_count": null,
   "metadata": {},
   "outputs": [],
   "source": [
    "#Lets try to analyse the Error this Model is doing\n",
    "\n",
    "y_train_pred=cvpred(sgd,x_train_scaled,y_train,cv=3)\n",
    "\n",
    "conf_mat=confusion_matrix(y_train,y_train_pred)\n",
    "conf_mat"
   ]
  },
  {
   "cell_type": "code",
   "execution_count": null,
   "metadata": {},
   "outputs": [],
   "source": [
    "plt.matshow(conf_mat,cmap=plt.cm.gray)\n",
    "plt.savefig('.\\\\ImageDataset\\\\ErrorAnalysis_ConfMatrix.jpeg')\n",
    "plt.show()"
   ]
  },
  {
   "cell_type": "code",
   "execution_count": null,
   "metadata": {},
   "outputs": [],
   "source": []
  }
 ],
 "metadata": {
  "kernelspec": {
   "display_name": "Python 3",
   "language": "python",
   "name": "python3"
  },
  "language_info": {
   "codemirror_mode": {
    "name": "ipython",
    "version": 3
   },
   "file_extension": ".py",
   "mimetype": "text/x-python",
   "name": "python",
   "nbconvert_exporter": "python",
   "pygments_lexer": "ipython3",
   "version": "3.7.6"
  }
 },
 "nbformat": 4,
 "nbformat_minor": 4
}
